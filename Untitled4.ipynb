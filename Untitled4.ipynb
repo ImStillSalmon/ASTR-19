{
 "cells": [
  {
   "cell_type": "code",
   "execution_count": 1,
   "id": "1a5cd75d-acdc-4d18-8067-61373004e684",
   "metadata": {},
   "outputs": [],
   "source": [
    "import numpy as np\n",
    "import matplotlib.pyplot as plt"
   ]
  },
  {
   "cell_type": "code",
   "execution_count": 2,
   "id": "6852a6d6-361f-4049-bb2c-d243659e0efc",
   "metadata": {},
   "outputs": [],
   "source": [
    "a = 2\n",
    "data = np.random.uniform(0,1,1000)\n",
    "\n"
   ]
  },
  {
   "cell_type": "code",
   "execution_count": null,
   "id": "403f18d4-9ad8-440b-ad18-b8bd6eb7b50d",
   "metadata": {},
   "outputs": [],
   "source": [
    "plt.hist(data, bins=100, color=\"skyblue\", edgecolor=\"black\")\n",
    "\n",
    "plt.xlabel(\"Value\")\n",
    "plt.ylabel(\"Frequency\")\n",
    "plt.title(\"uniform random\")\n",
    "\n",
    "plt.savefig(\"uniform_hist.pdf\")\n",
    "plt.show()"
   ]
  }
 ],
 "metadata": {
  "kernelspec": {
   "display_name": "Python 3 (ipykernel)",
   "language": "python",
   "name": "python3"
  },
  "language_info": {
   "codemirror_mode": {
    "name": "ipython",
    "version": 3
   },
   "file_extension": ".py",
   "mimetype": "text/x-python",
   "name": "python",
   "nbconvert_exporter": "python",
   "pygments_lexer": "ipython3",
   "version": "3.13.9"
  }
 },
 "nbformat": 4,
 "nbformat_minor": 5
}
