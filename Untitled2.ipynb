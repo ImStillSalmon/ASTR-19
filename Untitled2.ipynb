{
 "cells": [
  {
   "cell_type": "code",
   "execution_count": 1,
   "id": "5c00b9ed-af41-428b-b9a7-96067229eb06",
   "metadata": {},
   "outputs": [],
   "source": [
    "import numpy as np\n",
    "import matplotlib.pyplot as plt"
   ]
  },
  {
   "cell_type": "code",
   "execution_count": 2,
   "id": "23f35469-92be-4bf0-97d8-f553759c6db3",
   "metadata": {},
   "outputs": [],
   "source": [
    "x = np.linspace(0, 1, 100)\n",
    "def f_sin(x):\n",
    "    return np.sin(x)\n",
    "def f_cos(x):\n",
    "    return np.cos(x)"
   ]
  },
  {
   "cell_type": "code",
   "execution_count": null,
   "id": "f5d17ea9-267e-4a88-b86f-5ec7bcee024b",
   "metadata": {},
   "outputs": [],
   "source": [
    "y_sin = f_sin(x)\n",
    "y_cos = f_cos(x)\n",
    "fig, (ax1, ax2) = plt.subplots(1,2, figsize=(10, 4))\n",
    "ax1.plot(x, y_sin)\n",
    "ax1.set_title(\"sin(x)\")\n",
    "ax1.set_xlabel(\"x\")\n",
    "ax1.set_ylabel(\"sin(x)\")\n",
    "\n",
    "ax2.plot(x, y_cos)\n",
    "ax2.set_title(\"cos(x)\")\n",
    "ax2.set_xlabel(\"x\")\n",
    "ax2.set_ylabel(\"cos(x)\")\n",
    "\n",
    "plt.tight_layout()\n",
    "plt.savefig(\"sine_cosine_panels.pdf\")\n",
    "\n",
    "plt.show()"
   ]
  },
  {
   "cell_type": "code",
   "execution_count": null,
   "id": "3bdf7f56-1e4e-45f5-8279-4e11bb665e9e",
   "metadata": {},
   "outputs": [],
   "source": []
  }
 ],
 "metadata": {
  "kernelspec": {
   "display_name": "Python 3 (ipykernel)",
   "language": "python",
   "name": "python3"
  },
  "language_info": {
   "codemirror_mode": {
    "name": "ipython",
    "version": 3
   },
   "file_extension": ".py",
   "mimetype": "text/x-python",
   "name": "python",
   "nbconvert_exporter": "python",
   "pygments_lexer": "ipython3",
   "version": "3.13.9"
  }
 },
 "nbformat": 4,
 "nbformat_minor": 5
}
