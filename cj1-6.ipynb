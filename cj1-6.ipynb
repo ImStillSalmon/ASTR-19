{
 "cells": [
  {
   "cell_type": "code",
   "execution_count": 9,
   "id": "f0b408d1-3e33-4922-81f2-e972c362815f",
   "metadata": {},
   "outputs": [],
   "source": [
    "import math\n",
    "\n",
    "def my_sin(x):\n",
    "\n",
    "    return math.sin(x)"
   ]
  },
  {
   "cell_type": "code",
   "execution_count": 10,
   "id": "95d4a115-cfc1-4abf-8391-fe109710b706",
   "metadata": {},
   "outputs": [],
   "source": [
    "def my_cos(x):\n",
    "    return math.cos(x)"
   ]
  },
  {
   "cell_type": "code",
   "execution_count": 11,
   "id": "bf4e623f-87a3-4775-853f-9b5e59a0a8be",
   "metadata": {},
   "outputs": [],
   "source": [
    "import numpy as np\n",
    "\n",
    "x_values = np.linspace(0, 2, 1000)\n",
    "\n",
    "sin_values = [my_sin(x) for x in x_values]\n",
    "cos_values = [my_cos(x) for x in x_values]"
   ]
  },
  {
   "cell_type": "code",
   "execution_count": 12,
   "id": "369fa059-5112-4596-805f-0ac63804005c",
   "metadata": {},
   "outputs": [
    {
     "name": "stdout",
     "output_type": "stream",
     "text": [
      "   x\t\t sin(x)\t\t cos(x)\n",
      "----------------------------------------\n",
      "0.0000\t 0.0000\t 1.0000\n",
      "0.0020\t 0.0020\t 1.0000\n",
      "0.0040\t 0.0040\t 1.0000\n",
      "0.0060\t 0.0060\t 1.0000\n",
      "0.0080\t 0.0080\t 1.0000\n",
      "0.0100\t 0.0100\t 0.9999\n",
      "0.0120\t 0.0120\t 0.9999\n",
      "0.0140\t 0.0140\t 0.9999\n",
      "0.0160\t 0.0160\t 0.9999\n",
      "0.0180\t 0.0180\t 0.9998\n"
     ]
    }
   ],
   "source": [
    "print(\"   x\\t\\t sin(x)\\t\\t cos(x)\")\n",
    "print(\"-\" * 40)\n",
    "\n",
    "for i in range(10):\n",
    "    print(f\"{x_values[i]:.4f}\\t {sin_values[i]:.4f}\\t {cos_values[i]:.4f}\")"
   ]
  }
 ],
 "metadata": {
  "kernelspec": {
   "display_name": "Python 3 (ipykernel)",
   "language": "python",
   "name": "python3"
  },
  "language_info": {
   "codemirror_mode": {
    "name": "ipython",
    "version": 3
   },
   "file_extension": ".py",
   "mimetype": "text/x-python",
   "name": "python",
   "nbconvert_exporter": "python",
   "pygments_lexer": "ipython3",
   "version": "3.13.9"
  }
 },
 "nbformat": 4,
 "nbformat_minor": 5
}
